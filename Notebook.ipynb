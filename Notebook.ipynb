{
 "cells": [
  {
   "cell_type": "markdown",
   "metadata": {
    "id": "ClpeVNuMhpeD"
   },
   "source": [
    "# **Introduction to Data Science Final Project**\n",
    "\n",
    "**Student Information:**\n",
    "\n",
    "StudentID|Full Name\n",
    "-|-\n",
    "21127012|Tran Huy Ban\n",
    "21127050|Tran Nguyen Huan \n",
    "21127143|Nguyen Minh Quan \n",
    "21127175|Le Anh Thu\n"
   ]
  },
  {
   "cell_type": "markdown",
   "metadata": {},
   "source": [
    "## **Table of contents**\n",
    "\n",
    "[Overview](#overview)\n",
    "\n",
    "1. [Data Collection](#collect)\n",
    "   \n",
    "\n",
    "    b. [Collecting data](#collecting)\n",
    "   \n",
    "3. [Data Pre-processing](#process)\n",
    "\n",
    "    a. [Pre-precessing](#preprocess)\n",
    "\n",
    "    b. [Exploration](#exploration)\n",
    "       \n",
    "4. [Data Modeling](#modeling)\n",
    "\n",
    "5. [Deploy Model](#deploy)\n",
    "\n",
    "[References](#references)"
   ]
  },
  {
   "cell_type": "markdown",
   "metadata": {},
   "source": [
    "## **Overview** <a name=\"overview\"></a>"
   ]
  },
  {
   "cell_type": "markdown",
   "metadata": {},
   "source": [
    "<center>\n",
    "<h3>\n",
    "    <b>\n",
    "    Movie Recommendations: Explore a World of Cinematic Brilliance\n",
    "    </b>\n",
    "</h3>\n",
    "    <img style=\"padding:10px\" src=\"https://beebom.com/wp-content/uploads/2019/08/netflix-family-movies-featured.jpg?w=750&quality=75\" width=\"800\"/>\n",
    "</center>\n",
    "\n",
    "Looking for your next movie night delight? Our recommendation engine, powered by [The Movie Database (TMDB) API](#https://developer.themoviedb.org/docs), is here to guide you through a curated list of cinematic gems that promise both captivating overviews and significant impact. Let's dive into why these movies should be on your must-watch list:\n",
    "\n",
    "- Each recommended movie comes with a unique and compelling overview that provides a glimpse into the storyline. From heartwarming dramas to spine-chilling thrillers, our selection covers a diverse range of genres. Whether you're in the mood for a gripping narrative or a light-hearted adventure, our recommendations offer intriguing synopses to help you make the perfect choice.\n",
    "\n",
    "- Beyond just entertaining, these movies have left a lasting impact on audiences worldwide. They have resonated with viewers, sparking discussions and leaving a mark on the world of cinema. Prepare to embark on an unforgettable journey as you explore films that have not only earned critical acclaim but have also contributed to the cultural tapestry of the film industry."
   ]
  },
  {
   "cell_type": "markdown",
   "metadata": {},
   "source": [
    "### **Necessary Libraries and Key**"
   ]
  },
  {
   "cell_type": "code",
   "execution_count": 2,
   "metadata": {},
   "outputs": [],
   "source": [
    "import requests\n",
    "import csv\n",
    "import pandas as pd\n",
    "import os\n",
    "import ast  "
   ]
  },
  {
   "cell_type": "code",
   "execution_count": 3,
   "metadata": {},
   "outputs": [],
   "source": [
    "API_KEY = '15d786cc910b647049be3fc40ce9f3a2'"
   ]
  },
  {
   "cell_type": "markdown",
   "metadata": {},
   "source": [
    "## **1. Data Collection** <a name=\"collect\"></a>"
   ]
  },
  {
   "cell_type": "markdown",
   "metadata": {},
   "source": [
    "Download movie dataset via API"
   ]
  },
  {
   "cell_type": "code",
   "execution_count": 9,
   "metadata": {
    "scrolled": true
   },
   "outputs": [],
   "source": [
    "base_url = 'https://api.themoviedb.org/3/'\n",
    "movie_endpoint = 'movie/top_rated'\n",
    "\n",
    "movies_file_path= 'Data/movies.csv'\n",
    "\n",
    "page = 1\n",
    "total_pages = 50\n",
    "header = []\n",
    "\n",
    "if not os.path.exists(movies_file_path):\n",
    "    movies_data = []\n",
    "    \n",
    "    while page <= total_pages:\n",
    "        discover_url = f'{base_url}{movie_endpoint}?api_key={API_KEY}&page={page}'\n",
    "        discover_response = requests.get(discover_url)\n",
    "    \n",
    "        if discover_response.status_code == 200:\n",
    "            discover_data = discover_response.json()\n",
    "    \n",
    "            if total_pages == 1:\n",
    "                total_pages = discover_data['total_pages']\n",
    "    \n",
    "            if page == 1:\n",
    "                header = list(discover_data['results'][0].keys())\n",
    "                movies_data.append(header)\n",
    "    \n",
    "            for movie in discover_data['results']:\n",
    "                movies_data.append([movie[field] for field in header])\n",
    "    \n",
    "            page += 1\n",
    "            \n",
    "        else:\n",
    "            print(f\"Error: Failed to retrieve discovered movies. Status Code: {discover_response.status_code}\")\n",
    "            break\n",
    "            \n",
    "    with open(movies_file_path, 'w', newline='', encoding='utf-8') as movies_file:\n",
    "        movies_writer = csv.writer(movies_file)\n",
    "        movies_writer.writerows(movies_data)\n",
    "else:\n",
    "    print(f\"The file {movies_file_path} already exists.\")"
   ]
  },
  {
   "cell_type": "markdown",
   "metadata": {},
   "source": [
    "Load movie dataset into dataframe"
   ]
  },
  {
   "cell_type": "code",
   "execution_count": 10,
   "metadata": {},
   "outputs": [
    {
     "data": {
      "text/html": [
       "<div>\n",
       "<style scoped>\n",
       "    .dataframe tbody tr th:only-of-type {\n",
       "        vertical-align: middle;\n",
       "    }\n",
       "\n",
       "    .dataframe tbody tr th {\n",
       "        vertical-align: top;\n",
       "    }\n",
       "\n",
       "    .dataframe thead th {\n",
       "        text-align: right;\n",
       "    }\n",
       "</style>\n",
       "<table border=\"1\" class=\"dataframe\">\n",
       "  <thead>\n",
       "    <tr style=\"text-align: right;\">\n",
       "      <th></th>\n",
       "      <th>adult</th>\n",
       "      <th>backdrop_path</th>\n",
       "      <th>genre_ids</th>\n",
       "      <th>id</th>\n",
       "      <th>original_language</th>\n",
       "      <th>original_title</th>\n",
       "      <th>overview</th>\n",
       "      <th>popularity</th>\n",
       "      <th>poster_path</th>\n",
       "      <th>release_date</th>\n",
       "      <th>title</th>\n",
       "      <th>video</th>\n",
       "      <th>vote_average</th>\n",
       "      <th>vote_count</th>\n",
       "    </tr>\n",
       "  </thead>\n",
       "  <tbody>\n",
       "    <tr>\n",
       "      <th>0</th>\n",
       "      <td>False</td>\n",
       "      <td>/tmU7GeKVybMWFButWEGl2M4GeiP.jpg</td>\n",
       "      <td>[18, 80]</td>\n",
       "      <td>238</td>\n",
       "      <td>en</td>\n",
       "      <td>The Godfather</td>\n",
       "      <td>Spanning the years 1945 to 1955, a chronicle o...</td>\n",
       "      <td>142.683</td>\n",
       "      <td>/3bhkrj58Vtu7enYsRolD1fZdja1.jpg</td>\n",
       "      <td>1972-03-14</td>\n",
       "      <td>The Godfather</td>\n",
       "      <td>False</td>\n",
       "      <td>8.709</td>\n",
       "      <td>18971</td>\n",
       "    </tr>\n",
       "    <tr>\n",
       "      <th>1</th>\n",
       "      <td>False</td>\n",
       "      <td>/kXfqcdQKsToO0OUXHcrrNCHDBzO.jpg</td>\n",
       "      <td>[18, 80]</td>\n",
       "      <td>278</td>\n",
       "      <td>en</td>\n",
       "      <td>The Shawshank Redemption</td>\n",
       "      <td>Framed in the 1940s for the double murder of h...</td>\n",
       "      <td>110.139</td>\n",
       "      <td>/q6y0Go1tsGEsmtFryDOJo3dEmqu.jpg</td>\n",
       "      <td>1994-09-23</td>\n",
       "      <td>The Shawshank Redemption</td>\n",
       "      <td>False</td>\n",
       "      <td>8.705</td>\n",
       "      <td>24958</td>\n",
       "    </tr>\n",
       "  </tbody>\n",
       "</table>\n",
       "</div>"
      ],
      "text/plain": [
       "   adult                     backdrop_path genre_ids   id original_language  \\\n",
       "0  False  /tmU7GeKVybMWFButWEGl2M4GeiP.jpg  [18, 80]  238                en   \n",
       "1  False  /kXfqcdQKsToO0OUXHcrrNCHDBzO.jpg  [18, 80]  278                en   \n",
       "\n",
       "             original_title  \\\n",
       "0             The Godfather   \n",
       "1  The Shawshank Redemption   \n",
       "\n",
       "                                            overview  popularity  \\\n",
       "0  Spanning the years 1945 to 1955, a chronicle o...     142.683   \n",
       "1  Framed in the 1940s for the double murder of h...     110.139   \n",
       "\n",
       "                        poster_path release_date                     title  \\\n",
       "0  /3bhkrj58Vtu7enYsRolD1fZdja1.jpg   1972-03-14             The Godfather   \n",
       "1  /q6y0Go1tsGEsmtFryDOJo3dEmqu.jpg   1994-09-23  The Shawshank Redemption   \n",
       "\n",
       "   video  vote_average  vote_count  \n",
       "0  False         8.709       18971  \n",
       "1  False         8.705       24958  "
      ]
     },
     "execution_count": 10,
     "metadata": {},
     "output_type": "execute_result"
    }
   ],
   "source": [
    "movies_df = pd.read_csv('Data/movies.csv')\n",
    "movies_df.head(2)"
   ]
  },
  {
   "cell_type": "markdown",
   "metadata": {},
   "source": [
    "But, we want more information about each movie in those dataset. So, we will get the list of casts in each movie"
   ]
  },
  {
   "cell_type": "code",
   "execution_count": 11,
   "metadata": {},
   "outputs": [],
   "source": [
    "movies_with_casts_file_path = 'Data/movies_with_casts.csv'\n",
    "\n",
    "if not os.path.exists(movies_with_casts_file_path):\n",
    "    header.append('casts')\n",
    "    \n",
    "    for movie_info in movies_data[1:]:  \n",
    "        movie_id = movie_info[header.index('id')]\n",
    "        credits_url = f'{base_url}movie/{movie_id}/credits?api_key={API_KEY}'\n",
    "        credits_response = requests.get(credits_url)\n",
    "    \n",
    "        if credits_response.status_code == 200:\n",
    "            credits_data = credits_response.json()\n",
    "            movie_credits = credits_data.get('cast', []) \n",
    "        else:\n",
    "            movie_credits = []\n",
    "    \n",
    "        movie_info.append(movie_credits)\n",
    "    \n",
    "    with open(movies_with_casts_file_path, 'w', newline='', encoding='utf-8') as movies_file:\n",
    "        movies_writer = csv.writer(movies_file)\n",
    "        movies_writer.writerows(movies_data)\n",
    "else:\n",
    "    print(f\"The file {movies_with_casts_file_path} already exists.\")    "
   ]
  },
  {
   "cell_type": "code",
   "execution_count": 12,
   "metadata": {},
   "outputs": [
    {
     "data": {
      "text/html": [
       "<div>\n",
       "<style scoped>\n",
       "    .dataframe tbody tr th:only-of-type {\n",
       "        vertical-align: middle;\n",
       "    }\n",
       "\n",
       "    .dataframe tbody tr th {\n",
       "        vertical-align: top;\n",
       "    }\n",
       "\n",
       "    .dataframe thead th {\n",
       "        text-align: right;\n",
       "    }\n",
       "</style>\n",
       "<table border=\"1\" class=\"dataframe\">\n",
       "  <thead>\n",
       "    <tr style=\"text-align: right;\">\n",
       "      <th></th>\n",
       "      <th>adult</th>\n",
       "      <th>backdrop_path</th>\n",
       "      <th>genre_ids</th>\n",
       "      <th>id</th>\n",
       "      <th>original_language</th>\n",
       "      <th>original_title</th>\n",
       "      <th>overview</th>\n",
       "      <th>popularity</th>\n",
       "      <th>poster_path</th>\n",
       "      <th>release_date</th>\n",
       "      <th>title</th>\n",
       "      <th>video</th>\n",
       "      <th>vote_average</th>\n",
       "      <th>vote_count</th>\n",
       "      <th>casts</th>\n",
       "    </tr>\n",
       "  </thead>\n",
       "  <tbody>\n",
       "    <tr>\n",
       "      <th>0</th>\n",
       "      <td>False</td>\n",
       "      <td>/tmU7GeKVybMWFButWEGl2M4GeiP.jpg</td>\n",
       "      <td>[18, 80]</td>\n",
       "      <td>238</td>\n",
       "      <td>en</td>\n",
       "      <td>The Godfather</td>\n",
       "      <td>Spanning the years 1945 to 1955, a chronicle o...</td>\n",
       "      <td>142.683</td>\n",
       "      <td>/3bhkrj58Vtu7enYsRolD1fZdja1.jpg</td>\n",
       "      <td>1972-03-14</td>\n",
       "      <td>The Godfather</td>\n",
       "      <td>False</td>\n",
       "      <td>8.709</td>\n",
       "      <td>18971</td>\n",
       "      <td>[{'adult': False, 'gender': 2, 'id': 3084, 'kn...</td>\n",
       "    </tr>\n",
       "    <tr>\n",
       "      <th>1</th>\n",
       "      <td>False</td>\n",
       "      <td>/kXfqcdQKsToO0OUXHcrrNCHDBzO.jpg</td>\n",
       "      <td>[18, 80]</td>\n",
       "      <td>278</td>\n",
       "      <td>en</td>\n",
       "      <td>The Shawshank Redemption</td>\n",
       "      <td>Framed in the 1940s for the double murder of h...</td>\n",
       "      <td>110.139</td>\n",
       "      <td>/q6y0Go1tsGEsmtFryDOJo3dEmqu.jpg</td>\n",
       "      <td>1994-09-23</td>\n",
       "      <td>The Shawshank Redemption</td>\n",
       "      <td>False</td>\n",
       "      <td>8.705</td>\n",
       "      <td>24958</td>\n",
       "      <td>[{'adult': False, 'gender': 2, 'id': 504, 'kno...</td>\n",
       "    </tr>\n",
       "  </tbody>\n",
       "</table>\n",
       "</div>"
      ],
      "text/plain": [
       "   adult                     backdrop_path genre_ids   id original_language  \\\n",
       "0  False  /tmU7GeKVybMWFButWEGl2M4GeiP.jpg  [18, 80]  238                en   \n",
       "1  False  /kXfqcdQKsToO0OUXHcrrNCHDBzO.jpg  [18, 80]  278                en   \n",
       "\n",
       "             original_title  \\\n",
       "0             The Godfather   \n",
       "1  The Shawshank Redemption   \n",
       "\n",
       "                                            overview  popularity  \\\n",
       "0  Spanning the years 1945 to 1955, a chronicle o...     142.683   \n",
       "1  Framed in the 1940s for the double murder of h...     110.139   \n",
       "\n",
       "                        poster_path release_date                     title  \\\n",
       "0  /3bhkrj58Vtu7enYsRolD1fZdja1.jpg   1972-03-14             The Godfather   \n",
       "1  /q6y0Go1tsGEsmtFryDOJo3dEmqu.jpg   1994-09-23  The Shawshank Redemption   \n",
       "\n",
       "   video  vote_average  vote_count  \\\n",
       "0  False         8.709       18971   \n",
       "1  False         8.705       24958   \n",
       "\n",
       "                                               casts  \n",
       "0  [{'adult': False, 'gender': 2, 'id': 3084, 'kn...  \n",
       "1  [{'adult': False, 'gender': 2, 'id': 504, 'kno...  "
      ]
     },
     "execution_count": 12,
     "metadata": {},
     "output_type": "execute_result"
    }
   ],
   "source": [
    "df = pd.read_csv('Data/movies_with_casts.csv')\n",
    "df.head(2)"
   ]
  },
  {
   "cell_type": "markdown",
   "metadata": {},
   "source": [
    "Looks like we have enough data to solve our problem"
   ]
  },
  {
   "cell_type": "markdown",
   "metadata": {},
   "source": [
    "## **2. Data Pre-processing** <a name=\"process\"></a>"
   ]
  },
  {
   "cell_type": "markdown",
   "metadata": {},
   "source": [
    "### **a. Pre-processing** <a name=\"preprocess\"></a>"
   ]
  },
  {
   "cell_type": "markdown",
   "metadata": {},
   "source": [
    "Firstly, we should inspect our data."
   ]
  },
  {
   "cell_type": "code",
   "execution_count": 13,
   "metadata": {},
   "outputs": [
    {
     "name": "stdout",
     "output_type": "stream",
     "text": [
      "<class 'pandas.core.frame.DataFrame'>\n",
      "RangeIndex: 1000 entries, 0 to 999\n",
      "Data columns (total 15 columns):\n",
      " #   Column             Non-Null Count  Dtype  \n",
      "---  ------             --------------  -----  \n",
      " 0   adult              1000 non-null   bool   \n",
      " 1   backdrop_path      1000 non-null   object \n",
      " 2   genre_ids          1000 non-null   object \n",
      " 3   id                 1000 non-null   int64  \n",
      " 4   original_language  1000 non-null   object \n",
      " 5   original_title     1000 non-null   object \n",
      " 6   overview           1000 non-null   object \n",
      " 7   popularity         1000 non-null   float64\n",
      " 8   poster_path        1000 non-null   object \n",
      " 9   release_date       1000 non-null   object \n",
      " 10  title              1000 non-null   object \n",
      " 11  video              1000 non-null   bool   \n",
      " 12  vote_average       1000 non-null   float64\n",
      " 13  vote_count         1000 non-null   int64  \n",
      " 14  casts              1000 non-null   object \n",
      "dtypes: bool(2), float64(2), int64(2), object(9)\n",
      "memory usage: 103.6+ KB\n"
     ]
    }
   ],
   "source": [
    "df.info()"
   ]
  },
  {
   "cell_type": "markdown",
   "metadata": {},
   "source": [
    "We can see that our data have no empty/null data. So, we skip handle null data."
   ]
  },
  {
   "cell_type": "code",
   "execution_count": 15,
   "metadata": {},
   "outputs": [
    {
     "data": {
      "text/plain": [
       "(1000, 15)"
      ]
     },
     "execution_count": 15,
     "metadata": {},
     "output_type": "execute_result"
    }
   ],
   "source": [
    "df.shape"
   ]
  },
  {
   "cell_type": "markdown",
   "metadata": {},
   "source": [
    "Our dataset have 15 columns with 1000 rows"
   ]
  },
  {
   "cell_type": "markdown",
   "metadata": {},
   "source": [
    "Then, we check for duplicates in our data"
   ]
  },
  {
   "cell_type": "code",
   "execution_count": 17,
   "metadata": {},
   "outputs": [
    {
     "name": "stdout",
     "output_type": "stream",
     "text": [
      "\n",
      "Number of duplicates: 8\n"
     ]
    }
   ],
   "source": [
    "duplicates = df[df.duplicated()]\n",
    "print(f\"\\nNumber of duplicates: {len(duplicates)}\")"
   ]
  },
  {
   "cell_type": "code",
   "execution_count": 18,
   "metadata": {},
   "outputs": [],
   "source": [
    "df = df.drop_duplicates()\n",
    "df = df.dropna()"
   ]
  },
  {
   "cell_type": "code",
   "execution_count": 19,
   "metadata": {},
   "outputs": [
    {
     "name": "stdout",
     "output_type": "stream",
     "text": [
      "\n",
      "Check number of duplicates again: 0\n"
     ]
    }
   ],
   "source": [
    "duplicates = df[df.duplicated()]\n",
    "print(f\"\\nCheck number of duplicates again: {len(duplicates)}\")"
   ]
  },
  {
   "cell_type": "markdown",
   "metadata": {},
   "source": [
    "#### **Feature Selection**"
   ]
  },
  {
   "cell_type": "markdown",
   "metadata": {},
   "source": [
    "Our original data has 13 columns but we don't need to parse the entire column. We should select some important columns for better analyze."
   ]
  },
  {
   "cell_type": "code",
   "execution_count": 20,
   "metadata": {},
   "outputs": [],
   "source": [
    "# Feature Selection\n",
    "selected_columns = ['genre_ids', 'id', 'overview', 'popularity', 'release_date', 'title', 'vote_average', 'vote_count', 'casts']\n",
    "df = df[selected_columns]"
   ]
  },
  {
   "cell_type": "code",
   "execution_count": 21,
   "metadata": {},
   "outputs": [
    {
     "data": {
      "text/html": [
       "<div>\n",
       "<style scoped>\n",
       "    .dataframe tbody tr th:only-of-type {\n",
       "        vertical-align: middle;\n",
       "    }\n",
       "\n",
       "    .dataframe tbody tr th {\n",
       "        vertical-align: top;\n",
       "    }\n",
       "\n",
       "    .dataframe thead th {\n",
       "        text-align: right;\n",
       "    }\n",
       "</style>\n",
       "<table border=\"1\" class=\"dataframe\">\n",
       "  <thead>\n",
       "    <tr style=\"text-align: right;\">\n",
       "      <th></th>\n",
       "      <th>genre_ids</th>\n",
       "      <th>id</th>\n",
       "      <th>overview</th>\n",
       "      <th>popularity</th>\n",
       "      <th>release_date</th>\n",
       "      <th>title</th>\n",
       "      <th>vote_average</th>\n",
       "      <th>vote_count</th>\n",
       "      <th>casts</th>\n",
       "    </tr>\n",
       "  </thead>\n",
       "  <tbody>\n",
       "    <tr>\n",
       "      <th>0</th>\n",
       "      <td>[18, 80]</td>\n",
       "      <td>238</td>\n",
       "      <td>Spanning the years 1945 to 1955, a chronicle o...</td>\n",
       "      <td>142.683</td>\n",
       "      <td>1972-03-14</td>\n",
       "      <td>The Godfather</td>\n",
       "      <td>8.709</td>\n",
       "      <td>18971</td>\n",
       "      <td>[{'adult': False, 'gender': 2, 'id': 3084, 'kn...</td>\n",
       "    </tr>\n",
       "    <tr>\n",
       "      <th>1</th>\n",
       "      <td>[18, 80]</td>\n",
       "      <td>278</td>\n",
       "      <td>Framed in the 1940s for the double murder of h...</td>\n",
       "      <td>110.139</td>\n",
       "      <td>1994-09-23</td>\n",
       "      <td>The Shawshank Redemption</td>\n",
       "      <td>8.705</td>\n",
       "      <td>24958</td>\n",
       "      <td>[{'adult': False, 'gender': 2, 'id': 504, 'kno...</td>\n",
       "    </tr>\n",
       "  </tbody>\n",
       "</table>\n",
       "</div>"
      ],
      "text/plain": [
       "  genre_ids   id                                           overview  \\\n",
       "0  [18, 80]  238  Spanning the years 1945 to 1955, a chronicle o...   \n",
       "1  [18, 80]  278  Framed in the 1940s for the double murder of h...   \n",
       "\n",
       "   popularity release_date                     title  vote_average  \\\n",
       "0     142.683   1972-03-14             The Godfather         8.709   \n",
       "1     110.139   1994-09-23  The Shawshank Redemption         8.705   \n",
       "\n",
       "   vote_count                                              casts  \n",
       "0       18971  [{'adult': False, 'gender': 2, 'id': 3084, 'kn...  \n",
       "1       24958  [{'adult': False, 'gender': 2, 'id': 504, 'kno...  "
      ]
     },
     "execution_count": 21,
     "metadata": {},
     "output_type": "execute_result"
    }
   ],
   "source": [
    "df.head(2)"
   ]
  },
  {
   "cell_type": "markdown",
   "metadata": {},
   "source": [
    "#### **Arrange columns**"
   ]
  },
  {
   "cell_type": "markdown",
   "metadata": {},
   "source": [
    "We need to rearrange the order of the columns to make them more accurate"
   ]
  },
  {
   "cell_type": "code",
   "execution_count": 22,
   "metadata": {},
   "outputs": [
    {
     "data": {
      "text/html": [
       "<div>\n",
       "<style scoped>\n",
       "    .dataframe tbody tr th:only-of-type {\n",
       "        vertical-align: middle;\n",
       "    }\n",
       "\n",
       "    .dataframe tbody tr th {\n",
       "        vertical-align: top;\n",
       "    }\n",
       "\n",
       "    .dataframe thead th {\n",
       "        text-align: right;\n",
       "    }\n",
       "</style>\n",
       "<table border=\"1\" class=\"dataframe\">\n",
       "  <thead>\n",
       "    <tr style=\"text-align: right;\">\n",
       "      <th></th>\n",
       "      <th>id</th>\n",
       "      <th>genre_ids</th>\n",
       "      <th>title</th>\n",
       "      <th>popularity</th>\n",
       "      <th>release_date</th>\n",
       "      <th>vote_average</th>\n",
       "      <th>vote_count</th>\n",
       "      <th>casts</th>\n",
       "    </tr>\n",
       "  </thead>\n",
       "  <tbody>\n",
       "    <tr>\n",
       "      <th>0</th>\n",
       "      <td>238</td>\n",
       "      <td>[18, 80]</td>\n",
       "      <td>The Godfather</td>\n",
       "      <td>142.683</td>\n",
       "      <td>1972-03-14</td>\n",
       "      <td>8.709</td>\n",
       "      <td>18971</td>\n",
       "      <td>[{'adult': False, 'gender': 2, 'id': 3084, 'kn...</td>\n",
       "    </tr>\n",
       "    <tr>\n",
       "      <th>1</th>\n",
       "      <td>278</td>\n",
       "      <td>[18, 80]</td>\n",
       "      <td>The Shawshank Redemption</td>\n",
       "      <td>110.139</td>\n",
       "      <td>1994-09-23</td>\n",
       "      <td>8.705</td>\n",
       "      <td>24958</td>\n",
       "      <td>[{'adult': False, 'gender': 2, 'id': 504, 'kno...</td>\n",
       "    </tr>\n",
       "  </tbody>\n",
       "</table>\n",
       "</div>"
      ],
      "text/plain": [
       "    id genre_ids                     title  popularity release_date  \\\n",
       "0  238  [18, 80]             The Godfather     142.683   1972-03-14   \n",
       "1  278  [18, 80]  The Shawshank Redemption     110.139   1994-09-23   \n",
       "\n",
       "   vote_average  vote_count                                              casts  \n",
       "0         8.709       18971  [{'adult': False, 'gender': 2, 'id': 3084, 'kn...  \n",
       "1         8.705       24958  [{'adult': False, 'gender': 2, 'id': 504, 'kno...  "
      ]
     },
     "execution_count": 22,
     "metadata": {},
     "output_type": "execute_result"
    }
   ],
   "source": [
    "df = df[['id', 'genre_ids', 'title', 'popularity', 'release_date', 'vote_average', 'vote_count', 'casts']]\n",
    "df.head(2)"
   ]
  },
  {
   "cell_type": "markdown",
   "metadata": {},
   "source": [
    "#### **Change value in columns**"
   ]
  },
  {
   "cell_type": "markdown",
   "metadata": {},
   "source": [
    "In the release date column, we only extract the year, no need to get the full date"
   ]
  },
  {
   "cell_type": "code",
   "execution_count": 23,
   "metadata": {},
   "outputs": [
    {
     "data": {
      "text/html": [
       "<div>\n",
       "<style scoped>\n",
       "    .dataframe tbody tr th:only-of-type {\n",
       "        vertical-align: middle;\n",
       "    }\n",
       "\n",
       "    .dataframe tbody tr th {\n",
       "        vertical-align: top;\n",
       "    }\n",
       "\n",
       "    .dataframe thead th {\n",
       "        text-align: right;\n",
       "    }\n",
       "</style>\n",
       "<table border=\"1\" class=\"dataframe\">\n",
       "  <thead>\n",
       "    <tr style=\"text-align: right;\">\n",
       "      <th></th>\n",
       "      <th>id</th>\n",
       "      <th>genre_ids</th>\n",
       "      <th>title</th>\n",
       "      <th>popularity</th>\n",
       "      <th>release_year</th>\n",
       "      <th>vote_average</th>\n",
       "      <th>vote_count</th>\n",
       "      <th>casts</th>\n",
       "    </tr>\n",
       "  </thead>\n",
       "  <tbody>\n",
       "    <tr>\n",
       "      <th>0</th>\n",
       "      <td>238</td>\n",
       "      <td>[18, 80]</td>\n",
       "      <td>The Godfather</td>\n",
       "      <td>142.683</td>\n",
       "      <td>1972</td>\n",
       "      <td>8.709</td>\n",
       "      <td>18971</td>\n",
       "      <td>[{'adult': False, 'gender': 2, 'id': 3084, 'kn...</td>\n",
       "    </tr>\n",
       "    <tr>\n",
       "      <th>1</th>\n",
       "      <td>278</td>\n",
       "      <td>[18, 80]</td>\n",
       "      <td>The Shawshank Redemption</td>\n",
       "      <td>110.139</td>\n",
       "      <td>1994</td>\n",
       "      <td>8.705</td>\n",
       "      <td>24958</td>\n",
       "      <td>[{'adult': False, 'gender': 2, 'id': 504, 'kno...</td>\n",
       "    </tr>\n",
       "  </tbody>\n",
       "</table>\n",
       "</div>"
      ],
      "text/plain": [
       "    id genre_ids                     title  popularity  release_year  \\\n",
       "0  238  [18, 80]             The Godfather     142.683          1972   \n",
       "1  278  [18, 80]  The Shawshank Redemption     110.139          1994   \n",
       "\n",
       "   vote_average  vote_count                                              casts  \n",
       "0         8.709       18971  [{'adult': False, 'gender': 2, 'id': 3084, 'kn...  \n",
       "1         8.705       24958  [{'adult': False, 'gender': 2, 'id': 504, 'kno...  "
      ]
     },
     "execution_count": 23,
     "metadata": {},
     "output_type": "execute_result"
    }
   ],
   "source": [
    "df['release_date'] = pd.to_datetime(df['release_date']).dt.year\n",
    "df = df.rename(columns={'release_date': 'release_year'})\n",
    "df.head(2)"
   ]
  },
  {
   "cell_type": "markdown",
   "metadata": {},
   "source": [
    "#### **Correct data type**"
   ]
  },
  {
   "cell_type": "markdown",
   "metadata": {},
   "source": [
    "The data type of the genre_ids column is an object with a number, so we need to clarify what the movie genre is. Let's get category name from API:"
   ]
  },
  {
   "cell_type": "code",
   "execution_count": 24,
   "metadata": {},
   "outputs": [
    {
     "data": {
      "text/plain": [
       "{28: 'Action',\n",
       " 12: 'Adventure',\n",
       " 16: 'Animation',\n",
       " 35: 'Comedy',\n",
       " 80: 'Crime',\n",
       " 99: 'Documentary',\n",
       " 18: 'Drama',\n",
       " 10751: 'Family',\n",
       " 14: 'Fantasy',\n",
       " 36: 'History',\n",
       " 27: 'Horror',\n",
       " 10402: 'Music',\n",
       " 9648: 'Mystery',\n",
       " 10749: 'Romance',\n",
       " 878: 'Science Fiction',\n",
       " 10770: 'TV Movie',\n",
       " 53: 'Thriller',\n",
       " 10752: 'War',\n",
       " 37: 'Western'}"
      ]
     },
     "execution_count": 24,
     "metadata": {},
     "output_type": "execute_result"
    }
   ],
   "source": [
    "url = f\"http://api.themoviedb.org/3/genre/movie/list?api_key={API_KEY}\"\n",
    "response = requests.get(url)\n",
    "genres = response.json().get('genres', [])\n",
    "genre_names = {genre['id']: genre['name'] for genre in genres}\n",
    "genre_names"
   ]
  },
  {
   "cell_type": "code",
   "execution_count": 25,
   "metadata": {},
   "outputs": [
    {
     "data": {
      "text/html": [
       "<div>\n",
       "<style scoped>\n",
       "    .dataframe tbody tr th:only-of-type {\n",
       "        vertical-align: middle;\n",
       "    }\n",
       "\n",
       "    .dataframe tbody tr th {\n",
       "        vertical-align: top;\n",
       "    }\n",
       "\n",
       "    .dataframe thead th {\n",
       "        text-align: right;\n",
       "    }\n",
       "</style>\n",
       "<table border=\"1\" class=\"dataframe\">\n",
       "  <thead>\n",
       "    <tr style=\"text-align: right;\">\n",
       "      <th></th>\n",
       "      <th>id</th>\n",
       "      <th>genre_ids</th>\n",
       "      <th>title</th>\n",
       "      <th>popularity</th>\n",
       "      <th>release_year</th>\n",
       "      <th>vote_average</th>\n",
       "      <th>vote_count</th>\n",
       "      <th>casts</th>\n",
       "      <th>genre_names</th>\n",
       "    </tr>\n",
       "  </thead>\n",
       "  <tbody>\n",
       "    <tr>\n",
       "      <th>0</th>\n",
       "      <td>238</td>\n",
       "      <td>[18, 80]</td>\n",
       "      <td>The Godfather</td>\n",
       "      <td>142.683</td>\n",
       "      <td>1972</td>\n",
       "      <td>8.709</td>\n",
       "      <td>18971</td>\n",
       "      <td>[{'adult': False, 'gender': 2, 'id': 3084, 'kn...</td>\n",
       "      <td>[Drama, Crime]</td>\n",
       "    </tr>\n",
       "    <tr>\n",
       "      <th>1</th>\n",
       "      <td>278</td>\n",
       "      <td>[18, 80]</td>\n",
       "      <td>The Shawshank Redemption</td>\n",
       "      <td>110.139</td>\n",
       "      <td>1994</td>\n",
       "      <td>8.705</td>\n",
       "      <td>24958</td>\n",
       "      <td>[{'adult': False, 'gender': 2, 'id': 504, 'kno...</td>\n",
       "      <td>[Drama, Crime]</td>\n",
       "    </tr>\n",
       "  </tbody>\n",
       "</table>\n",
       "</div>"
      ],
      "text/plain": [
       "    id genre_ids                     title  popularity  release_year  \\\n",
       "0  238  [18, 80]             The Godfather     142.683          1972   \n",
       "1  278  [18, 80]  The Shawshank Redemption     110.139          1994   \n",
       "\n",
       "   vote_average  vote_count  \\\n",
       "0         8.709       18971   \n",
       "1         8.705       24958   \n",
       "\n",
       "                                               casts     genre_names  \n",
       "0  [{'adult': False, 'gender': 2, 'id': 3084, 'kn...  [Drama, Crime]  \n",
       "1  [{'adult': False, 'gender': 2, 'id': 504, 'kno...  [Drama, Crime]  "
      ]
     },
     "execution_count": 25,
     "metadata": {},
     "output_type": "execute_result"
    }
   ],
   "source": [
    "df['genre_ids'] = df['genre_ids'].apply(lambda x: ast.literal_eval(x) if isinstance(x, str) else x)\n",
    "\n",
    "def map_genre_ids_to_names(genre_ids):\n",
    "    if isinstance(genre_ids, list):\n",
    "        return [genre_names[genre_id] for genre_id in genre_ids]\n",
    "    else:\n",
    "        return []\n",
    "\n",
    "df['genre_names'] = df['genre_ids'].apply(map_genre_ids_to_names)\n",
    "df.head(2)"
   ]
  },
  {
   "cell_type": "code",
   "execution_count": 26,
   "metadata": {},
   "outputs": [
    {
     "data": {
      "text/html": [
       "<div>\n",
       "<style scoped>\n",
       "    .dataframe tbody tr th:only-of-type {\n",
       "        vertical-align: middle;\n",
       "    }\n",
       "\n",
       "    .dataframe tbody tr th {\n",
       "        vertical-align: top;\n",
       "    }\n",
       "\n",
       "    .dataframe thead th {\n",
       "        text-align: right;\n",
       "    }\n",
       "</style>\n",
       "<table border=\"1\" class=\"dataframe\">\n",
       "  <thead>\n",
       "    <tr style=\"text-align: right;\">\n",
       "      <th></th>\n",
       "      <th>id</th>\n",
       "      <th>title</th>\n",
       "      <th>popularity</th>\n",
       "      <th>release_year</th>\n",
       "      <th>vote_average</th>\n",
       "      <th>vote_count</th>\n",
       "      <th>casts</th>\n",
       "      <th>genre_names</th>\n",
       "    </tr>\n",
       "  </thead>\n",
       "  <tbody>\n",
       "    <tr>\n",
       "      <th>0</th>\n",
       "      <td>238</td>\n",
       "      <td>The Godfather</td>\n",
       "      <td>142.683</td>\n",
       "      <td>1972</td>\n",
       "      <td>8.709</td>\n",
       "      <td>18971</td>\n",
       "      <td>[{'adult': False, 'gender': 2, 'id': 3084, 'kn...</td>\n",
       "      <td>[Drama, Crime]</td>\n",
       "    </tr>\n",
       "    <tr>\n",
       "      <th>1</th>\n",
       "      <td>278</td>\n",
       "      <td>The Shawshank Redemption</td>\n",
       "      <td>110.139</td>\n",
       "      <td>1994</td>\n",
       "      <td>8.705</td>\n",
       "      <td>24958</td>\n",
       "      <td>[{'adult': False, 'gender': 2, 'id': 504, 'kno...</td>\n",
       "      <td>[Drama, Crime]</td>\n",
       "    </tr>\n",
       "  </tbody>\n",
       "</table>\n",
       "</div>"
      ],
      "text/plain": [
       "    id                     title  popularity  release_year  vote_average  \\\n",
       "0  238             The Godfather     142.683          1972         8.709   \n",
       "1  278  The Shawshank Redemption     110.139          1994         8.705   \n",
       "\n",
       "   vote_count                                              casts  \\\n",
       "0       18971  [{'adult': False, 'gender': 2, 'id': 3084, 'kn...   \n",
       "1       24958  [{'adult': False, 'gender': 2, 'id': 504, 'kno...   \n",
       "\n",
       "      genre_names  \n",
       "0  [Drama, Crime]  \n",
       "1  [Drama, Crime]  "
      ]
     },
     "execution_count": 26,
     "metadata": {},
     "output_type": "execute_result"
    }
   ],
   "source": [
    "df = df.drop('genre_ids', axis=1)\n",
    "df.head(2)"
   ]
  },
  {
   "cell_type": "markdown",
   "metadata": {},
   "source": [
    "Finally, we convert genre_ids to genre_names "
   ]
  },
  {
   "cell_type": "markdown",
   "metadata": {},
   "source": [
    "### **b. Exploration** <a name=\"exploration\"></a>"
   ]
  },
  {
   "cell_type": "markdown",
   "metadata": {},
   "source": [
    "## **3. Data Modeling** <a name=\"modeling\"></a>"
   ]
  },
  {
   "cell_type": "markdown",
   "metadata": {},
   "source": [
    "## **4. Deploy Model** <a name=\"deploy\"></a>"
   ]
  },
  {
   "cell_type": "markdown",
   "metadata": {},
   "source": [
    "## **References** <a name=\"references\"></a>"
   ]
  },
  {
   "cell_type": "code",
   "execution_count": null,
   "metadata": {},
   "outputs": [],
   "source": []
  }
 ],
 "metadata": {
  "colab": {
   "provenance": []
  },
  "kernelspec": {
   "display_name": "Python 3 (ipykernel)",
   "language": "python",
   "name": "python3"
  },
  "language_info": {
   "codemirror_mode": {
    "name": "ipython",
    "version": 3
   },
   "file_extension": ".py",
   "mimetype": "text/x-python",
   "name": "python",
   "nbconvert_exporter": "python",
   "pygments_lexer": "ipython3",
   "version": "3.10.8"
  }
 },
 "nbformat": 4,
 "nbformat_minor": 4
}
