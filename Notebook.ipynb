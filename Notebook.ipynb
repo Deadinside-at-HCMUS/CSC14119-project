{
 "cells": [
  {
   "cell_type": "markdown",
   "metadata": {
    "id": "ClpeVNuMhpeD"
   },
   "source": [
    "# **Introduction to Data Science Final Project**\n",
    "\n",
    "**Student Information:**\n",
    "\n",
    "StudentID|Full Name\n",
    "-|-\n",
    "21127012|Tran Huy Ban\n",
    "21127050|Tran Nguyen Huan \n",
    "21127143|Nguyen Minh Quan \n",
    "21127175|Le Anh Thu\n"
   ]
  },
  {
   "cell_type": "markdown",
   "metadata": {},
   "source": [
    "## **Table of contents**\n",
    "\n",
    "[Overview](#overview)\n",
    "\n",
    "1. [Data Collection](#collect)\n",
    "   \n",
    "\n",
    "    b. [Collecting data](#collecting)\n",
    "   \n",
    "3. [Data Pre-processing](#process)\n",
    "\n",
    "    a. [Pre-precessing](#preprocess)\n",
    "\n",
    "    b. [Exploration](#exploration)\n",
    "       \n",
    "4. [Data Modeling](#modeling)\n",
    "\n",
    "5. [Deploy Model](#deploy)\n",
    "\n",
    "[References](#references)"
   ]
  },
  {
   "cell_type": "markdown",
   "metadata": {},
   "source": [
    "## **Overview** <a name=\"overview\"></a>"
   ]
  },
  {
   "cell_type": "markdown",
   "metadata": {},
   "source": [
    "<center>\n",
    "<h3>\n",
    "    <b>\n",
    "    Movie Recommendations: Explore a World of Cinematic Brilliance\n",
    "    </b>\n",
    "</h3>\n",
    "    <img style=\"padding:10px\" src=\"https://beebom.com/wp-content/uploads/2019/08/netflix-family-movies-featured.jpg?w=750&quality=75\" width=\"800\"/>\n",
    "</center>\n",
    "\n",
    "Looking for your next movie night delight? Our recommendation engine, powered by [The Movie Database (TMDB) API](#https://developer.themoviedb.org/docs), is here to guide you through a curated list of cinematic gems that promise both captivating overviews and significant impact. Let's dive into why these movies should be on your must-watch list:\n",
    "\n",
    "- Each recommended movie comes with a unique and compelling overview that provides a glimpse into the storyline. From heartwarming dramas to spine-chilling thrillers, our selection covers a diverse range of genres. Whether you're in the mood for a gripping narrative or a light-hearted adventure, our recommendations offer intriguing synopses to help you make the perfect choice.\n",
    "\n",
    "- Beyond just entertaining, these movies have left a lasting impact on audiences worldwide. They have resonated with viewers, sparking discussions and leaving a mark on the world of cinema. Prepare to embark on an unforgettable journey as you explore films that have not only earned critical acclaim but have also contributed to the cultural tapestry of the film industry."
   ]
  },
  {
   "cell_type": "markdown",
   "metadata": {},
   "source": [
    "### **Necessary Libraries and Key**"
   ]
  },
  {
   "cell_type": "code",
   "execution_count": 7,
   "metadata": {},
   "outputs": [],
   "source": [
    "import requests\n",
    "import csv\n",
    "import pandas as pd\n",
    "import os"
   ]
  },
  {
   "cell_type": "code",
   "execution_count": 8,
   "metadata": {},
   "outputs": [],
   "source": [
    "api_key = '15d786cc910b647049be3fc40ce9f3a2'"
   ]
  },
  {
   "cell_type": "markdown",
   "metadata": {},
   "source": [
    "## **1. Data Collection** <a name=\"collect\"></a>"
   ]
  },
  {
   "cell_type": "markdown",
   "metadata": {},
   "source": [
    "Download movie dataset via API"
   ]
  },
  {
   "cell_type": "code",
   "execution_count": 15,
   "metadata": {
    "scrolled": true
   },
   "outputs": [],
   "source": [
    "base_url = 'https://api.themoviedb.org/3/'\n",
    "movie_endpoint = 'movie/top_rated'\n",
    "\n",
    "page = 1\n",
    "total_pages = 50\n",
    "\n",
    "movies_data = []\n",
    "\n",
    "while page <= total_pages:\n",
    "    discover_url = f'{base_url}{movie_endpoint}?api_key={api_key}&page={page}'\n",
    "    discover_response = requests.get(discover_url)\n",
    "\n",
    "    if discover_response.status_code == 200:\n",
    "        discover_data = discover_response.json()\n",
    "\n",
    "        if total_pages == 1:\n",
    "            total_pages = discover_data['total_pages']\n",
    "\n",
    "        if page == 1:\n",
    "            header = list(discover_data['results'][0].keys())\n",
    "            movies_data.append(header)\n",
    "\n",
    "        for movie in discover_data['results']:\n",
    "            movies_data.append([movie[field] for field in header])\n",
    "\n",
    "        page += 1\n",
    "        \n",
    "    else:\n",
    "        print(f\"Error: Failed to retrieve discovered movies. Status Code: {discover_response.status_code}\")\n",
    "        break\n",
    "        \n",
    "with open('Data/movies.csv', 'w', newline='', encoding='utf-8') as movies_file:\n",
    "    movies_writer = csv.writer(movies_file)\n",
    "    movies_writer.writerows(movies_data)"
   ]
  },
  {
   "cell_type": "markdown",
   "metadata": {},
   "source": [
    "Load movie dataset into dataframe"
   ]
  },
  {
   "cell_type": "code",
   "execution_count": 16,
   "metadata": {},
   "outputs": [
    {
     "data": {
      "text/html": [
       "<div>\n",
       "<style scoped>\n",
       "    .dataframe tbody tr th:only-of-type {\n",
       "        vertical-align: middle;\n",
       "    }\n",
       "\n",
       "    .dataframe tbody tr th {\n",
       "        vertical-align: top;\n",
       "    }\n",
       "\n",
       "    .dataframe thead th {\n",
       "        text-align: right;\n",
       "    }\n",
       "</style>\n",
       "<table border=\"1\" class=\"dataframe\">\n",
       "  <thead>\n",
       "    <tr style=\"text-align: right;\">\n",
       "      <th></th>\n",
       "      <th>adult</th>\n",
       "      <th>backdrop_path</th>\n",
       "      <th>genre_ids</th>\n",
       "      <th>id</th>\n",
       "      <th>original_language</th>\n",
       "      <th>original_title</th>\n",
       "      <th>overview</th>\n",
       "      <th>popularity</th>\n",
       "      <th>poster_path</th>\n",
       "      <th>release_date</th>\n",
       "      <th>title</th>\n",
       "      <th>video</th>\n",
       "      <th>vote_average</th>\n",
       "      <th>vote_count</th>\n",
       "    </tr>\n",
       "  </thead>\n",
       "  <tbody>\n",
       "    <tr>\n",
       "      <th>0</th>\n",
       "      <td>False</td>\n",
       "      <td>/tmU7GeKVybMWFButWEGl2M4GeiP.jpg</td>\n",
       "      <td>[18, 80]</td>\n",
       "      <td>238</td>\n",
       "      <td>en</td>\n",
       "      <td>The Godfather</td>\n",
       "      <td>Spanning the years 1945 to 1955, a chronicle o...</td>\n",
       "      <td>142.683</td>\n",
       "      <td>/3bhkrj58Vtu7enYsRolD1fZdja1.jpg</td>\n",
       "      <td>1972-03-14</td>\n",
       "      <td>The Godfather</td>\n",
       "      <td>False</td>\n",
       "      <td>8.709</td>\n",
       "      <td>18971</td>\n",
       "    </tr>\n",
       "    <tr>\n",
       "      <th>1</th>\n",
       "      <td>False</td>\n",
       "      <td>/kXfqcdQKsToO0OUXHcrrNCHDBzO.jpg</td>\n",
       "      <td>[18, 80]</td>\n",
       "      <td>278</td>\n",
       "      <td>en</td>\n",
       "      <td>The Shawshank Redemption</td>\n",
       "      <td>Framed in the 1940s for the double murder of h...</td>\n",
       "      <td>110.139</td>\n",
       "      <td>/q6y0Go1tsGEsmtFryDOJo3dEmqu.jpg</td>\n",
       "      <td>1994-09-23</td>\n",
       "      <td>The Shawshank Redemption</td>\n",
       "      <td>False</td>\n",
       "      <td>8.705</td>\n",
       "      <td>24958</td>\n",
       "    </tr>\n",
       "  </tbody>\n",
       "</table>\n",
       "</div>"
      ],
      "text/plain": [
       "   adult                     backdrop_path genre_ids   id original_language  \\\n",
       "0  False  /tmU7GeKVybMWFButWEGl2M4GeiP.jpg  [18, 80]  238                en   \n",
       "1  False  /kXfqcdQKsToO0OUXHcrrNCHDBzO.jpg  [18, 80]  278                en   \n",
       "\n",
       "             original_title  \\\n",
       "0             The Godfather   \n",
       "1  The Shawshank Redemption   \n",
       "\n",
       "                                            overview  popularity  \\\n",
       "0  Spanning the years 1945 to 1955, a chronicle o...     142.683   \n",
       "1  Framed in the 1940s for the double murder of h...     110.139   \n",
       "\n",
       "                        poster_path release_date                     title  \\\n",
       "0  /3bhkrj58Vtu7enYsRolD1fZdja1.jpg   1972-03-14             The Godfather   \n",
       "1  /q6y0Go1tsGEsmtFryDOJo3dEmqu.jpg   1994-09-23  The Shawshank Redemption   \n",
       "\n",
       "   video  vote_average  vote_count  \n",
       "0  False         8.709       18971  \n",
       "1  False         8.705       24958  "
      ]
     },
     "execution_count": 16,
     "metadata": {},
     "output_type": "execute_result"
    }
   ],
   "source": [
    "movies_df = pd.read_csv('Data/movies.csv')\n",
    "movies_df.head(2)"
   ]
  },
  {
   "cell_type": "markdown",
   "metadata": {},
   "source": [
    "But, we want more information about each movie in those dataset. So, we get more about credits: casts and crews in each movie"
   ]
  },
  {
   "cell_type": "code",
   "execution_count": 17,
   "metadata": {},
   "outputs": [],
   "source": [
    "header.append('credits')\n",
    "\n",
    "for movie_info in movies_data[1:]:  \n",
    "    movie_id = movie_info[header.index('id')]\n",
    "    credits_url = f'{base_url}movie/{movie_id}/credits?api_key={api_key}'\n",
    "    credits_response = requests.get(credits_url)\n",
    "\n",
    "    if credits_response.status_code == 200:\n",
    "        credits_data = credits_response.json()\n",
    "        movie_credits = credits_data.get('cast', [])  # Assuming you want the cast information\n",
    "    else:\n",
    "        movie_credits = []\n",
    "\n",
    "    movie_info.append(movie_credits)\n",
    "\n",
    "with open('Data/movies_with_credits.csv', 'w', newline='', encoding='utf-8') as movies_file:\n",
    "    movies_writer = csv.writer(movies_file)\n",
    "    movies_writer.writerows(movies_data)"
   ]
  },
  {
   "cell_type": "code",
   "execution_count": 32,
   "metadata": {},
   "outputs": [
    {
     "data": {
      "text/html": [
       "<div>\n",
       "<style scoped>\n",
       "    .dataframe tbody tr th:only-of-type {\n",
       "        vertical-align: middle;\n",
       "    }\n",
       "\n",
       "    .dataframe tbody tr th {\n",
       "        vertical-align: top;\n",
       "    }\n",
       "\n",
       "    .dataframe thead th {\n",
       "        text-align: right;\n",
       "    }\n",
       "</style>\n",
       "<table border=\"1\" class=\"dataframe\">\n",
       "  <thead>\n",
       "    <tr style=\"text-align: right;\">\n",
       "      <th></th>\n",
       "      <th>adult</th>\n",
       "      <th>backdrop_path</th>\n",
       "      <th>genre_ids</th>\n",
       "      <th>id</th>\n",
       "      <th>original_language</th>\n",
       "      <th>original_title</th>\n",
       "      <th>overview</th>\n",
       "      <th>popularity</th>\n",
       "      <th>poster_path</th>\n",
       "      <th>release_date</th>\n",
       "      <th>title</th>\n",
       "      <th>video</th>\n",
       "      <th>vote_average</th>\n",
       "      <th>vote_count</th>\n",
       "      <th>credits</th>\n",
       "    </tr>\n",
       "  </thead>\n",
       "  <tbody>\n",
       "    <tr>\n",
       "      <th>0</th>\n",
       "      <td>False</td>\n",
       "      <td>/tmU7GeKVybMWFButWEGl2M4GeiP.jpg</td>\n",
       "      <td>[18, 80]</td>\n",
       "      <td>238</td>\n",
       "      <td>en</td>\n",
       "      <td>The Godfather</td>\n",
       "      <td>Spanning the years 1945 to 1955, a chronicle o...</td>\n",
       "      <td>142.683</td>\n",
       "      <td>/3bhkrj58Vtu7enYsRolD1fZdja1.jpg</td>\n",
       "      <td>1972-03-14</td>\n",
       "      <td>The Godfather</td>\n",
       "      <td>False</td>\n",
       "      <td>8.709</td>\n",
       "      <td>18971</td>\n",
       "      <td>[{'adult': False, 'gender': 2, 'id': 3084, 'kn...</td>\n",
       "    </tr>\n",
       "    <tr>\n",
       "      <th>1</th>\n",
       "      <td>False</td>\n",
       "      <td>/kXfqcdQKsToO0OUXHcrrNCHDBzO.jpg</td>\n",
       "      <td>[18, 80]</td>\n",
       "      <td>278</td>\n",
       "      <td>en</td>\n",
       "      <td>The Shawshank Redemption</td>\n",
       "      <td>Framed in the 1940s for the double murder of h...</td>\n",
       "      <td>110.139</td>\n",
       "      <td>/q6y0Go1tsGEsmtFryDOJo3dEmqu.jpg</td>\n",
       "      <td>1994-09-23</td>\n",
       "      <td>The Shawshank Redemption</td>\n",
       "      <td>False</td>\n",
       "      <td>8.705</td>\n",
       "      <td>24958</td>\n",
       "      <td>[{'adult': False, 'gender': 2, 'id': 504, 'kno...</td>\n",
       "    </tr>\n",
       "  </tbody>\n",
       "</table>\n",
       "</div>"
      ],
      "text/plain": [
       "   adult                     backdrop_path genre_ids   id original_language  \\\n",
       "0  False  /tmU7GeKVybMWFButWEGl2M4GeiP.jpg  [18, 80]  238                en   \n",
       "1  False  /kXfqcdQKsToO0OUXHcrrNCHDBzO.jpg  [18, 80]  278                en   \n",
       "\n",
       "             original_title  \\\n",
       "0             The Godfather   \n",
       "1  The Shawshank Redemption   \n",
       "\n",
       "                                            overview  popularity  \\\n",
       "0  Spanning the years 1945 to 1955, a chronicle o...     142.683   \n",
       "1  Framed in the 1940s for the double murder of h...     110.139   \n",
       "\n",
       "                        poster_path release_date                     title  \\\n",
       "0  /3bhkrj58Vtu7enYsRolD1fZdja1.jpg   1972-03-14             The Godfather   \n",
       "1  /q6y0Go1tsGEsmtFryDOJo3dEmqu.jpg   1994-09-23  The Shawshank Redemption   \n",
       "\n",
       "   video  vote_average  vote_count  \\\n",
       "0  False         8.709       18971   \n",
       "1  False         8.705       24958   \n",
       "\n",
       "                                             credits  \n",
       "0  [{'adult': False, 'gender': 2, 'id': 3084, 'kn...  \n",
       "1  [{'adult': False, 'gender': 2, 'id': 504, 'kno...  "
      ]
     },
     "execution_count": 32,
     "metadata": {},
     "output_type": "execute_result"
    }
   ],
   "source": [
    "df = pd.read_csv('Data/movies_with_credits.csv')\n",
    "df.head(2)"
   ]
  },
  {
   "cell_type": "markdown",
   "metadata": {},
   "source": [
    "Looks like we have enough data to solve our problem"
   ]
  },
  {
   "cell_type": "markdown",
   "metadata": {},
   "source": [
    "## **2. Data Pre-processing** <a name=\"process\"></a>"
   ]
  },
  {
   "cell_type": "markdown",
   "metadata": {},
   "source": [
    "### **a. Pre-processing** <a name=\"preprocess\"></a>"
   ]
  },
  {
   "cell_type": "markdown",
   "metadata": {},
   "source": [
    "Firstly, we should inspect our data."
   ]
  },
  {
   "cell_type": "code",
   "execution_count": 33,
   "metadata": {},
   "outputs": [
    {
     "name": "stdout",
     "output_type": "stream",
     "text": [
      "<class 'pandas.core.frame.DataFrame'>\n",
      "RangeIndex: 1000 entries, 0 to 999\n",
      "Data columns (total 15 columns):\n",
      " #   Column             Non-Null Count  Dtype  \n",
      "---  ------             --------------  -----  \n",
      " 0   adult              1000 non-null   bool   \n",
      " 1   backdrop_path      1000 non-null   object \n",
      " 2   genre_ids          1000 non-null   object \n",
      " 3   id                 1000 non-null   int64  \n",
      " 4   original_language  1000 non-null   object \n",
      " 5   original_title     1000 non-null   object \n",
      " 6   overview           1000 non-null   object \n",
      " 7   popularity         1000 non-null   float64\n",
      " 8   poster_path        1000 non-null   object \n",
      " 9   release_date       1000 non-null   object \n",
      " 10  title              1000 non-null   object \n",
      " 11  video              1000 non-null   bool   \n",
      " 12  vote_average       1000 non-null   float64\n",
      " 13  vote_count         1000 non-null   int64  \n",
      " 14  credits            1000 non-null   object \n",
      "dtypes: bool(2), float64(2), int64(2), object(9)\n",
      "memory usage: 103.6+ KB\n"
     ]
    }
   ],
   "source": [
    "df.info()"
   ]
  },
  {
   "cell_type": "markdown",
   "metadata": {},
   "source": [
    "We can see that our data have no empty/null data. So, we skip handle null data."
   ]
  },
  {
   "cell_type": "markdown",
   "metadata": {},
   "source": [
    "Then, we check for duplicates in our data"
   ]
  },
  {
   "cell_type": "code",
   "execution_count": 34,
   "metadata": {},
   "outputs": [
    {
     "name": "stdout",
     "output_type": "stream",
     "text": [
      "\n",
      "Number of duplicates: 11\n"
     ]
    }
   ],
   "source": [
    "duplicates = df[df.duplicated()]\n",
    "print(f\"\\nNumber of duplicates: {len(duplicates)}\")"
   ]
  },
  {
   "cell_type": "markdown",
   "metadata": {},
   "source": [
    "Remove all duplicate columns"
   ]
  },
  {
   "cell_type": "code",
   "execution_count": 35,
   "metadata": {},
   "outputs": [],
   "source": [
    "df = df.drop_duplicates()\n",
    "df = df.dropna()"
   ]
  },
  {
   "cell_type": "code",
   "execution_count": 36,
   "metadata": {},
   "outputs": [
    {
     "name": "stdout",
     "output_type": "stream",
     "text": [
      "\n",
      "Check number of duplicates again: 0\n"
     ]
    }
   ],
   "source": [
    "duplicates = df[df.duplicated()]\n",
    "print(f\"\\nCheck number of duplicates again: {len(duplicates)}\")"
   ]
  },
  {
   "cell_type": "markdown",
   "metadata": {},
   "source": [
    "### **b. Exploration** <a name=\"exploration\"></a>"
   ]
  },
  {
   "cell_type": "markdown",
   "metadata": {},
   "source": [
    "#### **Feature Selection**"
   ]
  },
  {
   "cell_type": "markdown",
   "metadata": {},
   "source": [
    "Our original data has 13 columns but we don't need to parse the entire column. We should select some important columns for better analyze."
   ]
  },
  {
   "cell_type": "code",
   "execution_count": 42,
   "metadata": {},
   "outputs": [],
   "source": [
    "# Feature Selection\n",
    "selected_columns = ['genre_ids', 'id', 'overview', 'popularity', 'release_date', 'title', 'vote_average', 'vote_count', 'credits']\n",
    "df = df[selected_columns]"
   ]
  },
  {
   "cell_type": "code",
   "execution_count": 43,
   "metadata": {},
   "outputs": [
    {
     "data": {
      "text/html": [
       "<div>\n",
       "<style scoped>\n",
       "    .dataframe tbody tr th:only-of-type {\n",
       "        vertical-align: middle;\n",
       "    }\n",
       "\n",
       "    .dataframe tbody tr th {\n",
       "        vertical-align: top;\n",
       "    }\n",
       "\n",
       "    .dataframe thead th {\n",
       "        text-align: right;\n",
       "    }\n",
       "</style>\n",
       "<table border=\"1\" class=\"dataframe\">\n",
       "  <thead>\n",
       "    <tr style=\"text-align: right;\">\n",
       "      <th></th>\n",
       "      <th>genre_ids</th>\n",
       "      <th>id</th>\n",
       "      <th>overview</th>\n",
       "      <th>popularity</th>\n",
       "      <th>release_date</th>\n",
       "      <th>title</th>\n",
       "      <th>vote_average</th>\n",
       "      <th>vote_count</th>\n",
       "      <th>credits</th>\n",
       "    </tr>\n",
       "  </thead>\n",
       "  <tbody>\n",
       "    <tr>\n",
       "      <th>0</th>\n",
       "      <td>[18, 80]</td>\n",
       "      <td>238</td>\n",
       "      <td>Spanning the years 1945 to 1955, a chronicle o...</td>\n",
       "      <td>142.683</td>\n",
       "      <td>1972-03-14</td>\n",
       "      <td>The Godfather</td>\n",
       "      <td>8.709</td>\n",
       "      <td>18971</td>\n",
       "      <td>[{'adult': False, 'gender': 2, 'id': 3084, 'kn...</td>\n",
       "    </tr>\n",
       "    <tr>\n",
       "      <th>1</th>\n",
       "      <td>[18, 80]</td>\n",
       "      <td>278</td>\n",
       "      <td>Framed in the 1940s for the double murder of h...</td>\n",
       "      <td>110.139</td>\n",
       "      <td>1994-09-23</td>\n",
       "      <td>The Shawshank Redemption</td>\n",
       "      <td>8.705</td>\n",
       "      <td>24958</td>\n",
       "      <td>[{'adult': False, 'gender': 2, 'id': 504, 'kno...</td>\n",
       "    </tr>\n",
       "  </tbody>\n",
       "</table>\n",
       "</div>"
      ],
      "text/plain": [
       "  genre_ids   id                                           overview  \\\n",
       "0  [18, 80]  238  Spanning the years 1945 to 1955, a chronicle o...   \n",
       "1  [18, 80]  278  Framed in the 1940s for the double murder of h...   \n",
       "\n",
       "   popularity release_date                     title  vote_average  \\\n",
       "0     142.683   1972-03-14             The Godfather         8.709   \n",
       "1     110.139   1994-09-23  The Shawshank Redemption         8.705   \n",
       "\n",
       "   vote_count                                            credits  \n",
       "0       18971  [{'adult': False, 'gender': 2, 'id': 3084, 'kn...  \n",
       "1       24958  [{'adult': False, 'gender': 2, 'id': 504, 'kno...  "
      ]
     },
     "execution_count": 43,
     "metadata": {},
     "output_type": "execute_result"
    }
   ],
   "source": [
    "df.head(2)"
   ]
  },
  {
   "cell_type": "markdown",
   "metadata": {},
   "source": [
    "#### **Correct data type**"
   ]
  },
  {
   "cell_type": "markdown",
   "metadata": {},
   "source": [
    "## **3. Data Modeling** <a name=\"modeling\"></a>"
   ]
  },
  {
   "cell_type": "markdown",
   "metadata": {},
   "source": [
    "### **4. Deploy Model** <a name=\"deploy\"></a>"
   ]
  },
  {
   "cell_type": "markdown",
   "metadata": {},
   "source": [
    "## **References** <a name=\"references\"></a>"
   ]
  },
  {
   "cell_type": "code",
   "execution_count": null,
   "metadata": {},
   "outputs": [],
   "source": []
  }
 ],
 "metadata": {
  "colab": {
   "provenance": []
  },
  "kernelspec": {
   "display_name": "Python 3 (ipykernel)",
   "language": "python",
   "name": "python3"
  },
  "language_info": {
   "codemirror_mode": {
    "name": "ipython",
    "version": 3
   },
   "file_extension": ".py",
   "mimetype": "text/x-python",
   "name": "python",
   "nbconvert_exporter": "python",
   "pygments_lexer": "ipython3",
   "version": "3.10.8"
  }
 },
 "nbformat": 4,
 "nbformat_minor": 4
}
