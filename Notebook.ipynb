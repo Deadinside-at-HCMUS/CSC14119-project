{
 "cells": [
  {
   "cell_type": "markdown",
   "metadata": {
    "id": "ClpeVNuMhpeD"
   },
   "source": [
    "# **Programming for Data Science Final Project**\n",
    "\n",
    "**Student Information:**\n",
    "\n",
    "StudentID|Full Name\n",
    "-|-\n",
    "21127012|Tran Huy Ban\n",
    "21127050|Tran Nguyen Huan \n",
    "21127143|Nguyen Minh Quan \n",
    "21127175|Le Anh Thu\n"
   ]
  },
  {
   "cell_type": "markdown",
   "metadata": {},
   "source": [
    "## **Table of contents**\n",
    "\n",
    "1. [Data Collection](#collect)\n",
    "   \n",
    "2. [Data Pre-processing](#process)\n",
    "\n",
    "    a. [Pre-precessing](#preprocess)\n",
    "\n",
    "    b. [Exploration](#exploration)\n",
    "       \n",
    "3. [Data Modeling](#modeling)\n",
    "\n",
    "4. [Deploy Model](#deploy)\n",
    "\n",
    "[References](#references)"
   ]
  },
  {
   "cell_type": "markdown",
   "metadata": {},
   "source": [
    "## **1. Data Collection** <a name=\"collect\"></a>"
   ]
  },
  {
   "cell_type": "markdown",
   "metadata": {},
   "source": [
    "## **2. Data Pre-processing** <a name=\"process\"></a>"
   ]
  },
  {
   "cell_type": "markdown",
   "metadata": {},
   "source": [
    "### **a. Pre-processing** <a name=\"preprocess\"></a>"
   ]
  },
  {
   "cell_type": "markdown",
   "metadata": {},
   "source": [
    "### **b. Exploration** <a name=\"exploration\"></a>"
   ]
  },
  {
   "cell_type": "markdown",
   "metadata": {},
   "source": [
    "## **3. Data Modeling** <a name=\"modeling\"></a>"
   ]
  },
  {
   "cell_type": "markdown",
   "metadata": {},
   "source": [
    "### **4. Deploy Model** <a name=\"deploy\"></a>"
   ]
  },
  {
   "cell_type": "markdown",
   "metadata": {},
   "source": [
    "## **References** <a name=\"references\"></a>"
   ]
  }
 ],
 "metadata": {
  "colab": {
   "provenance": []
  },
  "kernelspec": {
   "display_name": "Python 3 (ipykernel)",
   "language": "python",
   "name": "python3"
  },
  "language_info": {
   "codemirror_mode": {
    "name": "ipython",
    "version": 3
   },
   "file_extension": ".py",
   "mimetype": "text/x-python",
   "name": "python",
   "nbconvert_exporter": "python",
   "pygments_lexer": "ipython3",
   "version": "3.10.8"
  }
 },
 "nbformat": 4,
 "nbformat_minor": 4
}
