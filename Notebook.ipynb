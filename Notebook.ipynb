{
 "cells": [
  {
   "cell_type": "markdown",
   "metadata": {
    "id": "ClpeVNuMhpeD"
   },
   "source": [
    "# **Introduction to Data Science Final Project**\n",
    "\n",
    "**Student Information:**\n",
    "\n",
    "StudentID|Full Name\n",
    "-|-\n",
    "21127012|Tran Huy Ban\n",
    "21127050|Tran Nguyen Huan \n",
    "21127143|Nguyen Minh Quan \n",
    "21127175|Le Anh Thu\n"
   ]
  },
  {
   "cell_type": "markdown",
   "metadata": {},
   "source": [
    "## **Table of contents**\n",
    "\n",
    "[Overview](#overview)\n",
    "\n",
    "1. [Data Collection](#collect)\n",
    "   \n",
    "\n",
    "    b. [Collecting data](#collecting)\n",
    "   \n",
    "3. [Data Pre-processing](#process)\n",
    "\n",
    "    a. [Pre-precessing](#preprocess)\n",
    "\n",
    "    b. [Exploration](#exploration)\n",
    "       \n",
    "4. [Data Modeling](#modeling)\n",
    "\n",
    "5. [Deploy Model](#deploy)\n",
    "\n",
    "[References](#references)"
   ]
  },
  {
   "cell_type": "markdown",
   "metadata": {
    "jp-MarkdownHeadingCollapsed": true
   },
   "source": [
    "## **Overview** <a name=\"overview\"></a>"
   ]
  },
  {
   "cell_type": "markdown",
   "metadata": {},
   "source": [
    "**Project Title:** Data Science Salary Predictor\n",
    "\n",
    "<center>\n",
    "<img src=\"https://www.nepalec.edu.np/storage/upload/23/06/16874373331583217311227.png\" width=\"800\">\n",
    "</center>"
   ]
  },
  {
   "cell_type": "markdown",
   "metadata": {},
   "source": [
    "**Overview:**\n",
    "The Data Science Salary Predictor is a robust tool designed to empower data scientists during salary negotiations by providing accurate salary estimates based on key skills and job descriptions. This project involved scraping over 1000 data science job descriptions from [Glassdoor](#https://www.glassdoor.com/), extracting relevant features, optimizing machine learning models, and creating a user-friendly API for seamless access."
   ]
  },
  {
   "cell_type": "markdown",
   "metadata": {},
   "source": [
    "**Results:**\n",
    "- The model achieved a high level of accuracy with a low MAE, providing data scientists with reliable salary estimates.\n",
    "- The API allows users to input their specific skills and experience to receive instant salary predictions, aiding in negotiation strategies."
   ]
  },
  {
   "cell_type": "markdown",
   "metadata": {},
   "source": [
    "**Impact:**\n",
    "- Empowers data scientists to negotiate competitive salaries based on industry standards and their unique skill set.\n",
    "- Enhances transparency in the data science job market, allowing both job seekers and employers to make more informed decisions."
   ]
  },
  {
   "cell_type": "markdown",
   "metadata": {},
   "source": [
    "## **1. Data Collection** <a name=\"collect\"></a>"
   ]
  },
  {
   "cell_type": "markdown",
   "metadata": {},
   "source": [
    "## **2. Data Pre-processing** <a name=\"process\"></a>"
   ]
  },
  {
   "cell_type": "markdown",
   "metadata": {},
   "source": [
    "### **a. Pre-processing** <a name=\"preprocess\"></a>"
   ]
  },
  {
   "cell_type": "markdown",
   "metadata": {},
   "source": [
    "### **b. Exploration** <a name=\"exploration\"></a>"
   ]
  },
  {
   "cell_type": "markdown",
   "metadata": {},
   "source": [
    "## **3. Data Modeling** <a name=\"modeling\"></a>"
   ]
  },
  {
   "cell_type": "markdown",
   "metadata": {},
   "source": [
    "### **4. Deploy Model** <a name=\"deploy\"></a>"
   ]
  },
  {
   "cell_type": "markdown",
   "metadata": {},
   "source": [
    "## **References** <a name=\"references\"></a>"
   ]
  }
 ],
 "metadata": {
  "colab": {
   "provenance": []
  },
  "kernelspec": {
   "display_name": "Python 3 (ipykernel)",
   "language": "python",
   "name": "python3"
  },
  "language_info": {
   "codemirror_mode": {
    "name": "ipython",
    "version": 3
   },
   "file_extension": ".py",
   "mimetype": "text/x-python",
   "name": "python",
   "nbconvert_exporter": "python",
   "pygments_lexer": "ipython3",
   "version": "3.10.8"
  }
 },
 "nbformat": 4,
 "nbformat_minor": 4
}
